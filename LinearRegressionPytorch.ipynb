{
 "cells": [
  {
   "cell_type": "code",
   "id": "initial_id",
   "metadata": {
    "collapsed": true,
    "ExecuteTime": {
     "end_time": "2025-10-24T10:34:45.018883Z",
     "start_time": "2025-10-24T10:34:45.010041Z"
    }
   },
   "source": [
    "import torch\n",
    "import numpy as np\n",
    "x=np.arange(10,dtype='float32').reshape((10,1))\n",
    "print(x)"
   ],
   "outputs": [
    {
     "name": "stdout",
     "output_type": "stream",
     "text": [
      "[[0.]\n",
      " [1.]\n",
      " [2.]\n",
      " [3.]\n",
      " [4.]\n",
      " [5.]\n",
      " [6.]\n",
      " [7.]\n",
      " [8.]\n",
      " [9.]]\n"
     ]
    }
   ],
   "execution_count": 7
  },
  {
   "metadata": {
    "ExecuteTime": {
     "end_time": "2025-10-24T10:34:45.027537Z",
     "start_time": "2025-10-24T10:34:45.024568Z"
    }
   },
   "cell_type": "code",
   "source": [
    "y=np.array([1.0,1.3,3.1,2.0,5.0,6.3,6.6,7.4,8.0,9.0],dtype='float32')\n",
    "print(y)"
   ],
   "id": "7c5d5a66f10ad655",
   "outputs": [
    {
     "name": "stdout",
     "output_type": "stream",
     "text": [
      "[1.  1.3 3.1 2.  5.  6.3 6.6 7.4 8.  9. ]\n"
     ]
    }
   ],
   "execution_count": 8
  },
  {
   "metadata": {
    "ExecuteTime": {
     "end_time": "2025-10-24T10:34:45.085614Z",
     "start_time": "2025-10-24T10:34:45.031593Z"
    }
   },
   "cell_type": "code",
   "source": [
    "import matplotlib.pyplot as plt\n",
    "plt.plot(x,y,'o',markersize=5)\n",
    "plt.xlabel('x')\n",
    "plt.ylabel('y')\n",
    "plt.show()"
   ],
   "id": "5fdfbb84ea3e34fc",
   "outputs": [
    {
     "data": {
      "text/plain": [
       "<Figure size 640x480 with 1 Axes>"
      ],
      "image/png": "[encoded data removed]"
     },
     "metadata": {},
     "output_type": "display_data"
    }
   ],
   "execution_count": 9
  },
  {
   "metadata": {
    "ExecuteTime": {
     "end_time": "2025-10-24T10:35:30.439149Z",
     "start_time": "2025-10-24T10:35:30.429128Z"
    }
   },
   "cell_type": "code",
   "source": [
    "from torch.utils.data import TensorDataset,DataLoader\n",
    "x_train_norm=(x-np.mean(x))/np.std(x)\n",
    "x_train_norm=torch.from_numpy(x_train_norm)\n",
    "y_train_norm=torch.from_numpy(y)\n",
    "train_ds=TensorDataset(x_train_norm,y_train_norm)\n",
    "batch_size=1\n",
    "train_dl= DataLoader(train_ds,batch_size,shuffle=True)\n",
    "\n"
   ],
   "id": "c71af4726a204144",
   "outputs": [],
   "execution_count": 11
  },
  {
   "metadata": {
    "ExecuteTime": {
     "end_time": "2025-10-24T11:00:32.945325Z",
     "start_time": "2025-10-24T11:00:32.937492Z"
    }
   },
   "cell_type": "code",
   "source": "print(x_train_norm)",
   "id": "9b5e553831bd5b3b",
   "outputs": [
    {
     "name": "stdout",
     "output_type": "stream",
     "text": [
      "tensor([[-1.5667],\n",
      "        [-1.2185],\n",
      "        [-0.8704],\n",
      "        [-0.5222],\n",
      "        [-0.1741],\n",
      "        [ 0.1741],\n",
      "        [ 0.5222],\n",
      "        [ 0.8704],\n",
      "        [ 1.2185],\n",
      "        [ 1.5667]])\n"
     ]
    }
   ],
   "execution_count": 13
  },
  {
   "metadata": {
    "ExecuteTime": {
     "end_time": "2025-10-24T11:00:49.686959Z",
     "start_time": "2025-10-24T11:00:49.677151Z"
    }
   },
   "cell_type": "code",
   "source": "print(y_train_norm)",
   "id": "c6c56c13190f884e",
   "outputs": [
    {
     "name": "stdout",
     "output_type": "stream",
     "text": [
      "tensor([1.0000, 1.3000, 3.1000, 2.0000, 5.0000, 6.3000, 6.6000, 7.4000, 8.0000,\n",
      "        9.0000])\n"
     ]
    }
   ],
   "execution_count": 14
  },
  {
   "metadata": {
    "ExecuteTime": {
     "end_time": "2025-10-24T11:01:24.819801Z",
     "start_time": "2025-10-24T11:01:24.747197Z"
    }
   },
   "cell_type": "code",
   "source": [
    "plt.plot(x_train_norm,y_train_norm,'o',markersize=5)\n",
    "plt.xlabel('x')\n",
    "plt.ylabel('y')\n",
    "plt.show()"
   ],
   "id": "bdf320d6d7eaa532",
   "outputs": [
    {
     "data": {
      "text/plain": [
       "<Figure size 640x480 with 1 Axes>"
      ],
      "image/png": "[encoded data removed]"
     },
     "metadata": {},
     "output_type": "display_data"
    }
   ],
   "execution_count": 15
  },
  {
   "metadata": {
    "ExecuteTime": {
     "end_time": "2025-10-24T11:00:11.817045Z",
     "start_time": "2025-10-24T11:00:11.754353Z"
    }
   },
   "cell_type": "code",
   "source": [
    "torch.manual_seed(1)\n",
    "weight=torch.randn(1)\n",
    "print(weight)"
   ],
   "id": "40d41a97afa28637",
   "outputs": [
    {
     "name": "stdout",
     "output_type": "stream",
     "text": [
      "tensor([0.6614])\n"
     ]
    }
   ],
   "execution_count": 12
  },
  {
   "metadata": {
    "ExecuteTime": {
     "end_time": "2025-10-24T11:03:32.119693Z",
     "start_time": "2025-10-24T11:03:32.111174Z"
    }
   },
   "cell_type": "code",
   "source": [
    "weight.requires_grad_()\n",
    "bias=torch.zeros(1,requires_grad=True)\n"
   ],
   "id": "fa1575fd5c2f10c7",
   "outputs": [],
   "execution_count": 16
  },
  {
   "metadata": {
    "ExecuteTime": {
     "end_time": "2025-10-24T11:03:46.286335Z",
     "start_time": "2025-10-24T11:03:46.281665Z"
    }
   },
   "cell_type": "code",
   "source": "print(bias)",
   "id": "8adf6e8292009e84",
   "outputs": [
    {
     "name": "stdout",
     "output_type": "stream",
     "text": [
      "tensor([0.], requires_grad=True)\n"
     ]
    }
   ],
   "execution_count": 17
  },
  {
   "metadata": {
    "ExecuteTime": {
     "end_time": "2025-10-24T11:04:27.465546Z",
     "start_time": "2025-10-24T11:04:27.456836Z"
    }
   },
   "cell_type": "code",
   "source": [
    "def model(xb):\n",
    "    return xb@weight+bias"
   ],
   "id": "136997b534b976ee",
   "outputs": [],
   "execution_count": 18
  },
  {
   "metadata": {
    "ExecuteTime": {
     "end_time": "2025-10-24T11:06:13.280896Z",
     "start_time": "2025-10-24T11:06:13.272939Z"
    }
   },
   "cell_type": "code",
   "source": [
    "def loss_fn(input,target):\n",
    "    return (input-target).pow(2).mean()"
   ],
   "id": "1fda890d72524eac",
   "outputs": [],
   "execution_count": 19
  },
  {
   "metadata": {
    "ExecuteTime": {
     "end_time": "2025-10-25T10:47:14.561347Z",
     "start_time": "2025-10-25T10:47:14.484972Z"
    }
   },
   "cell_type": "code",
   "source": [
    "learning_rate=0.001\n",
    "num_epochs=200\n",
    "log_epochs=10\n",
    "for epochs in range(num_epochs):\n",
    "    for x_batch,y_batch in train_dl:\n",
    "        pred=model(x_batch)\n",
    "        loss=loss_fn(pred,y_batch)\n",
    "    with torch.no_grad():\n",
    "        weight-=weight.grad*learning_rate\n",
    "        bias-=bias.grad*learning_rate\n",
    "        weight.grad.zero_()\n",
    "        bias.grad.zero_()\n",
    "    if epochs %log_epochs==0:\n",
    "        print(f\"Epoch {epochs} | Loss: {loss.item():.4f}\")\n",
    "        _"
   ],
   "id": "102e81eb3026c072",
   "outputs": [
    {
     "name": "stdout",
     "output_type": "stream",
     "text": [
      "Epoch 0 | Loss: 5.4482\n",
      "Epoch 10 | Loss: 13.4332\n",
      "Epoch 20 | Loss: 26.0420\n",
      "Epoch 30 | Loss: 4.1093\n",
      "Epoch 40 | Loss: 5.4482\n",
      "Epoch 50 | Loss: 38.9516\n",
      "Epoch 60 | Loss: 26.0420\n",
      "Epoch 70 | Loss: 38.9516\n",
      "Epoch 80 | Loss: 4.3938\n",
      "Epoch 90 | Loss: 4.1093\n",
      "Epoch 100 | Loss: 38.9516\n",
      "Epoch 110 | Loss: 13.4332\n",
      "Epoch 120 | Loss: 38.9516\n",
      "Epoch 130 | Loss: 4.1093\n",
      "Epoch 140 | Loss: 46.3778\n",
      "Epoch 150 | Loss: 46.3778\n",
      "Epoch 160 | Loss: 63.1726\n",
      "Epoch 170 | Loss: 26.0420\n",
      "Epoch 180 | Loss: 4.1093\n",
      "Epoch 190 | Loss: 38.0952\n"
     ]
    }
   ],
   "execution_count": 23
  },
  {
   "metadata": {},
   "cell_type": "code",
   "outputs": [],
   "execution_count": null,
   "source": "",
   "id": "8ba88c640b21ab0a"
  }
 ],
 "metadata": {
  "kernelspec": {
   "display_name": "Python 3",
   "language": "python",
   "name": "python3"
  },
  "language_info": {
   "codemirror_mode": {
    "name": "ipython",
    "version": 2
   },
   "file_extension": ".py",
   "mimetype": "text/x-python",
   "name": "python",
   "nbconvert_exporter": "python",
   "pygments_lexer": "ipython2",
   "version": "2.7.6"
  }
 },
 "nbformat": 4,
 "nbformat_minor": 5
}
