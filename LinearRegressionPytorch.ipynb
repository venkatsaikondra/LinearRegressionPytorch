{
 "cells": [
  {
   "cell_type": "code",
   "id": "initial_id",
   "metadata": {
    "collapsed": true,
    "ExecuteTime": {
     "end_time": "2025-10-24T10:34:45.018883Z",
     "start_time": "2025-10-24T10:34:45.010041Z"
    }
   },
   "source": [
    "import torch\n",
    "import numpy as np\n",
    "x=np.arange(10,dtype='float32').reshape((10,1))\n",
    "print(x)"
   ],
   "outputs": [
    {
     "name": "stdout",
     "output_type": "stream",
     "text": [
      "[[0.]\n",
      " [1.]\n",
      " [2.]\n",
      " [3.]\n",
      " [4.]\n",
      " [5.]\n",
      " [6.]\n",
      " [7.]\n",
      " [8.]\n",
      " [9.]]\n"
     ]
    }
   ],
   "execution_count": 7
  },
  {
   "metadata": {
    "ExecuteTime": {
     "end_time": "2025-10-24T10:34:45.027537Z",
     "start_time": "2025-10-24T10:34:45.024568Z"
    }
   },
   "cell_type": "code",
   "source": [
    "y=np.array([1.0,1.3,3.1,2.0,5.0,6.3,6.6,7.4,8.0,9.0],dtype='float32')\n",
    "print(y)"
   ],
   "id": "7c5d5a66f10ad655",
   "outputs": [
    {
     "name": "stdout",
     "output_type": "stream",
     "text": [
      "[1.  1.3 3.1 2.  5.  6.3 6.6 7.4 8.  9. ]\n"
     ]
    }
   ],
   "execution_count": 8
  },
  {
   "metadata": {
    "ExecuteTime": {
     "end_time": "2025-10-24T10:34:45.085614Z",
     "start_time": "2025-10-24T10:34:45.031593Z"
    }
   },
   "cell_type": "code",
   "source": [
    "import matplotlib.pyplot as plt\n",
    "plt.plot(x,y,'o',markersize=5)\n",
    "plt.xlabel('x')\n",
    "plt.ylabel('y')\n",
    "plt.show()"
   ],
   "id": "5fdfbb84ea3e34fc",
   "outputs": [
    {
     "data": {
      "text/plain": [
       "<Figure size 640x480 with 1 Axes>"
      ],
      "image/png": "[encoded data removed]"
     },
     "metadata": {},
     "output_type": "display_data"
    }
   ],
   "execution_count": 9
  },
  {
   "metadata": {
    "ExecuteTime": {
     "end_time": "2025-10-24T10:35:30.439149Z",
     "start_time": "2025-10-24T10:35:30.429128Z"
    }
   },
   "cell_type": "code",
   "source": [
    "from torch.utils.data import TensorDataset,DataLoader\n",
    "x_train_norm=(x-np.mean(x))/np.std(x)\n",
    "x_train_norm=torch.from_numpy(x_train_norm)\n",
    "y_train_norm=torch.from_numpy(y)\n",
    "train_ds=TensorDataset(x_train_norm,y_train_norm)\n",
    "batch_size=1\n",
    "train_dl= DataLoader(train_ds,batch_size,shuffle=True)\n",
    "\n"
   ],
   "id": "c71af4726a204144",
   "outputs": [],
   "execution_count": 11
  },
  {
   "metadata": {},
   "cell_type": "code",
   "outputs": [],
   "execution_count": null,
   "source": "",
   "id": "40d41a97afa28637"
  }
 ],
 "metadata": {
  "kernelspec": {
   "display_name": "Python 3",
   "language": "python",
   "name": "python3"
  },
  "language_info": {
   "codemirror_mode": {
    "name": "ipython",
    "version": 2
   },
   "file_extension": ".py",
   "mimetype": "text/x-python",
   "name": "python",
   "nbconvert_exporter": "python",
   "pygments_lexer": "ipython2",
   "version": "2.7.6"
  }
 },
 "nbformat": 4,
 "nbformat_minor": 5
}
